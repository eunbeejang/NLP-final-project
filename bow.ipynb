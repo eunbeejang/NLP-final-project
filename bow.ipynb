{
 "cells": [
  {
   "cell_type": "code",
   "execution_count": 1,
   "metadata": {
    "collapsed": true
   },
   "outputs": [],
   "source": [
    "import pandas as pd\n",
    "import numpy as np\n",
    "import re\n",
    "from sklearn.feature_extraction.text import TfidfVectorizer\n",
    "from sklearn.feature_extraction.text import CountVectorizer\n",
    "from sklearn.metrics import f1_score\n",
    "from sklearn.utils import shuffle\n",
    "import nltk\n",
    "from nltk import word_tokenize\n",
    "from nltk.stem.snowball import SnowballStemmer\n",
    "from nltk.stem import WordNetLemmatizer\n",
    "from nltk.corpus import stopwords\n",
    "from nltk.tokenize import sent_tokenize\n",
    "from sklearn.model_selection import RandomizedSearchCV\n",
    "from collections import Counter\n",
    "from sklearn.svm import LinearSVC\n",
    "from sklearn.naive_bayes import BernoulliNB\n",
    "from sklearn.naive_bayes import GaussianNB\n",
    "from sklearn.model_selection import GridSearchCV\n",
    "\n",
    "stemmer = SnowballStemmer(\"english\", ignore_stopwords=True)\n",
    "lemmatizer = WordNetLemmatizer()\n",
    "stopwords = stopwords.words('english')\n",
    "np.set_printoptions(threshold=np.nan)"
   ]
  },
  {
   "cell_type": "code",
   "execution_count": 2,
   "metadata": {},
   "outputs": [
    {
     "name": "stdout",
     "output_type": "stream",
     "text": [
      "Data loaded.\n"
     ]
    }
   ],
   "source": [
    "# Load data\n",
    "IMDB_train = pd.read_csv('./IMDB-train.txt', sep='\\t', encoding='latin-1', header=None)\n",
    "IMDB_train_y = IMDB_train[:][1]\n",
    "IMDB_valid = pd.read_csv('./IMDB-valid.txt', sep='\\t', encoding='latin-1', header=None)\n",
    "IMDB_valid_y = IMDB_valid[:][1]\n",
    "IMDB_test = pd.read_csv('./IMDB-test.txt', sep='\\t', encoding='latin-1', header=None)\n",
    "IMDB_test_y = IMDB_test[:][1]\n",
    "stemmer = SnowballStemmer(\"english\", ignore_stopwords=True)\n",
    "\n",
    "print(\"Data loaded.\")"
   ]
  },
  {
   "cell_type": "code",
   "execution_count": 3,
   "metadata": {
    "collapsed": true
   },
   "outputs": [],
   "source": [
    "frames = [IMDB_train, IMDB_valid]\n",
    "frames_y = [IMDB_train_y, IMDB_valid_y]\n",
    "IMDB_train = pd.concat(frames)\n",
    "IMDB_train_y = pd.concat(frames_y)"
   ]
  },
  {
   "cell_type": "markdown",
   "metadata": {},
   "source": [
    "# Preprocessing"
   ]
  },
  {
   "cell_type": "code",
   "execution_count": 4,
   "metadata": {
    "collapsed": true
   },
   "outputs": [],
   "source": [
    "def preprocessing(data):\n",
    "    new_data = []\n",
    "    #i = 0\n",
    "    for sentence in (data[:][0]):\n",
    "        new_sentence = re.sub('<.*?>', '', sentence) # remove HTML tags\n",
    "        new_sentence = re.sub(r'[^\\w\\s]', '', new_sentence) # remove punctuation\n",
    "        new_sentence = new_sentence.lower() # convert to lower case\n",
    "        if new_sentence != '':\n",
    "            new_data.append(new_sentence)\n",
    "    return new_data"
   ]
  },
  {
   "cell_type": "code",
   "execution_count": 5,
   "metadata": {
    "collapsed": true
   },
   "outputs": [],
   "source": [
    "def rm_numbers(data):\n",
    "    new_data = []\n",
    "    #i = 0\n",
    "    for sentence in (data):\n",
    "        new_sentence = re.sub(\"^\\d+\\s|\\s\\d+\\s|\\s\\d+$\", \" \", sentence)\n",
    "        if new_sentence != '':\n",
    "            new_data.append(new_sentence)\n",
    "    return new_data\n",
    "\n"
   ]
  },
  {
   "cell_type": "code",
   "execution_count": 6,
   "metadata": {
    "collapsed": true
   },
   "outputs": [],
   "source": [
    "IMDB_train = preprocessing(IMDB_train)\n",
    "IMDB_test = preprocessing(IMDB_test)"
   ]
  },
  {
   "cell_type": "code",
   "execution_count": 57,
   "metadata": {
    "collapsed": true
   },
   "outputs": [],
   "source": [
    "IMDB_train_rm_num = rm_numbers(IMDB_train)\n",
    "IMDB_test_rm_num = rm_numbers(IMDB_test)"
   ]
  },
  {
   "cell_type": "markdown",
   "metadata": {},
   "source": [
    "# Bag of n-gram "
   ]
  },
  {
   "cell_type": "code",
   "execution_count": 7,
   "metadata": {
    "collapsed": true
   },
   "outputs": [],
   "source": [
    "class LemmaTokenizer(object):\n",
    "    def __init__(self):\n",
    "        self.wnl = WordNetLemmatizer()\n",
    "    def __call__(self, articles):\n",
    "        return [self.wnl.lemmatize(t) for t in word_tokenize(articles)]"
   ]
  },
  {
   "cell_type": "code",
   "execution_count": 10,
   "metadata": {
    "collapsed": true
   },
   "outputs": [],
   "source": [
    "\n",
    "unigram = CountVectorizer(tokenizer=LemmaTokenizer(), analyzer='word', ngram_range=(1, 1), stop_words='english', max_features =30000)\n",
    "unigram_w_sw = CountVectorizer(tokenizer=LemmaTokenizer(), analyzer='word', ngram_range=(1, 1), stop_words=None, max_features =30000)"
   ]
  },
  {
   "cell_type": "code",
   "execution_count": 11,
   "metadata": {
    "collapsed": true
   },
   "outputs": [],
   "source": [
    "train_unigram = unigram.fit_transform(IMDB_train).toarray()\n",
    "test_unigram = unigram.transform(IMDB_test).toarray()\n"
   ]
  },
  {
   "cell_type": "code",
   "execution_count": 12,
   "metadata": {
    "collapsed": true
   },
   "outputs": [],
   "source": [
    "train_unigram_w_sw = unigram_w_sw.fit_transform(IMDB_train).toarray()\n",
    "test_unigram_w_sw = unigram_w_sw.transform(IMDB_test).toarray()\n"
   ]
  },
  {
   "cell_type": "code",
   "execution_count": null,
   "metadata": {
    "collapsed": true
   },
   "outputs": [],
   "source": []
  },
  {
   "cell_type": "code",
   "execution_count": 8,
   "metadata": {
    "collapsed": true
   },
   "outputs": [],
   "source": [
    "unigram_tfid_w_sw = TfidfVectorizer(tokenizer=LemmaTokenizer(),analyzer='word', stop_words=None, ngram_range=(1, 1), max_features =30000)"
   ]
  },
  {
   "cell_type": "code",
   "execution_count": 9,
   "metadata": {
    "collapsed": true
   },
   "outputs": [],
   "source": [
    "train_unigram_tfid_w_sw = unigram_tfid_w_sw.fit_transform(IMDB_train).toarray()\n",
    "test_unigram_tfid_w_sw = unigram_tfid_w_sw.transform(IMDB_test).toarray()"
   ]
  },
  {
   "cell_type": "markdown",
   "metadata": {},
   "source": [
    "# Random & Majority Classifiers as Baseline"
   ]
  },
  {
   "cell_type": "code",
   "execution_count": 50,
   "metadata": {
    "collapsed": true
   },
   "outputs": [],
   "source": [
    "def random_classifier(label):\n",
    "    pred = np.random.randint(0,2, size=len(label))\n",
    "    f1= f1_score(label, pred, average='micro')\n",
    "    return f1\n",
    "            "
   ]
  },
  {
   "cell_type": "code",
   "execution_count": 51,
   "metadata": {},
   "outputs": [
    {
     "name": "stdout",
     "output_type": "stream",
     "text": [
      "0.5042\n",
      "0.504\n"
     ]
    }
   ],
   "source": [
    "IMDB_train_rc_f1 = random_classifier(IMDB_train_y)\n",
    "print(IMDB_train_rc_f1)\n",
    "\n",
    "IMDB_test_rc_f1 = random_classifier(IMDB_test_y)\n",
    "print(IMDB_test_rc_f1)"
   ]
  },
  {
   "cell_type": "code",
   "execution_count": 52,
   "metadata": {
    "collapsed": true
   },
   "outputs": [],
   "source": [
    "def takeSecond(elem):\n",
    "    return elem[1]\n",
    "\n",
    "def majority_classifier_train(label):\n",
    "    frequency = list(Counter(label).items())\n",
    "    frequency = sorted(frequency, key=takeSecond, reverse=True)\n",
    "    majority_class = frequency[0][0]\n",
    "    pred = np.full(len(label), majority_class)\n",
    "    f1 = f1_score(label, pred, average='micro')\n",
    "    return f1, majority_class\n",
    "\n",
    "\n",
    "def majority_classifier_test(label, majority_class):\n",
    "    pred = np.full(len(label), majority_class)\n",
    "    f1 = f1_score(label, pred, average='micro')\n",
    "    return f1\n",
    "    "
   ]
  },
  {
   "cell_type": "code",
   "execution_count": 53,
   "metadata": {},
   "outputs": [
    {
     "name": "stdout",
     "output_type": "stream",
     "text": [
      "0.5 1\n",
      "0.5\n"
     ]
    }
   ],
   "source": [
    "IMDB_train_mc_f1,IMDB_train_mc_class = majority_classifier_train(IMDB_train_y)\n",
    "print(IMDB_train_mc_f1,IMDB_train_mc_class)\n",
    "\n",
    "IMDB_test_mc_f1 = majority_classifier_test(IMDB_test_y, IMDB_train_mc_class)\n",
    "print(IMDB_test_mc_f1)"
   ]
  },
  {
   "cell_type": "markdown",
   "metadata": {},
   "source": [
    "# Naive Bayes Classifier"
   ]
  },
  {
   "cell_type": "code",
   "execution_count": 11,
   "metadata": {
    "collapsed": true
   },
   "outputs": [],
   "source": [
    "def Naive_Bayes_Bernoulli(train_data, train_label, test_data, test_label, cv):\n",
    "\n",
    "    tuned_parameters = [{'alpha': [0.00001, 0.0001, 0.001, 0.01, 0.1, 1]}]\n",
    "    clf = BernoulliNB()\n",
    "    clf = GridSearchCV(clf, tuned_parameters, refit=True, scoring='f1_micro', cv=cv, return_train_score=True)\n",
    "    clf.fit(train_data, train_label)\n",
    "\n",
    "    \n",
    "    train_scores = clf.cv_results_['mean_train_score']\n",
    "    print('train_scores:',train_scores)\n",
    "    test_scores = clf.cv_results_['mean_test_score']\n",
    "    print('valid_scores:',test_scores)\n",
    "    params = clf.cv_results_['params']\n",
    "    print('params:', params)\n",
    "    best_param = clf.best_params_ \n",
    "    print('best_param', best_param)\n",
    "    best_estimator = clf.best_estimator_  \n",
    "    print('best_estimator', best_estimator)\n",
    "    best_score = clf.best_score_\n",
    "    print('best_score', best_score)\n",
    "\n",
    "    clf = BernoulliNB(alpha = best_param['alpha'])\n",
    "    clf.fit(train_data, train_label)\n",
    "    \n",
    "    y_pred_train = clf.predict(train_data)    \n",
    "    y_pred_test = clf.predict(test_data)\n",
    "    f1_train= f1_score(train_label, y_pred_train, average='micro')\n",
    "    f1_test= f1_score(test_label, y_pred_test, average='micro')\n",
    "    print('f1 (train): ', f1_train)\n",
    "    print('f1 (test): ', f1_test)"
   ]
  },
  {
   "cell_type": "code",
   "execution_count": 16,
   "metadata": {},
   "outputs": [
    {
     "name": "stdout",
     "output_type": "stream",
     "text": [
      "train_scores: [0.9143  0.91329 0.91148 0.90837 0.90272 0.89093]\n",
      "valid_scores: [0.81928 0.8262  0.83324 0.8404  0.84524 0.84388]\n",
      "params: [{'alpha': 1e-05}, {'alpha': 0.0001}, {'alpha': 0.001}, {'alpha': 0.01}, {'alpha': 0.1}, {'alpha': 1}]\n",
      "best_param {'alpha': 0.1}\n",
      "best_estimator BernoulliNB(alpha=0.1, binarize=0.0, class_prior=None, fit_prior=True)\n",
      "best_score 0.84524\n",
      "f1 (train):  0.89436\n",
      "f1 (test):  0.81292\n"
     ]
    }
   ],
   "source": [
    "Naive_Bayes_Bernoulli(train_unigram,np.asarray(IMDB_train_y),test_unigram,np.asarray(IMDB_test_y), 5)"
   ]
  },
  {
   "cell_type": "code",
   "execution_count": 17,
   "metadata": {},
   "outputs": [
    {
     "name": "stdout",
     "output_type": "stream",
     "text": [
      "train_scores: [0.91624 0.91499 0.91327 0.90961 0.90376 0.89206]\n",
      "valid_scores: [0.8272  0.83476 0.842   0.84776 0.85156 0.8514 ]\n",
      "params: [{'alpha': 1e-05}, {'alpha': 0.0001}, {'alpha': 0.001}, {'alpha': 0.01}, {'alpha': 0.1}, {'alpha': 1}]\n",
      "best_param {'alpha': 0.1}\n",
      "best_estimator BernoulliNB(alpha=0.1, binarize=0.0, class_prior=None, fit_prior=True)\n",
      "best_score 0.85156\n",
      "f1 (train):  0.89508\n",
      "f1 (test):  0.82412\n"
     ]
    }
   ],
   "source": [
    "Naive_Bayes_Bernoulli(train_unigram_w_sw,IMDB_train_y,test_unigram_w_sw,IMDB_test_y, 5)"
   ]
  },
  {
   "cell_type": "code",
   "execution_count": 15,
   "metadata": {
    "collapsed": true
   },
   "outputs": [],
   "source": [
    "def Naive_Bayes_Gaussian(train_data, train_label, test_data, test_label, cv):\n",
    "\n",
    "    tuned_parameters = [{'priors': [[0.5,0.5],[0.9,0.1],[0.1,0.9]]}]\n",
    "    clf = GaussianNB()\n",
    "    clf = GridSearchCV(clf, tuned_parameters, refit=True, scoring='f1_micro', cv=cv, return_train_score=True)\n",
    "    clf.fit(train_data, train_label)\n",
    "\n",
    "    \n",
    "    train_scores = clf.cv_results_['mean_train_score']\n",
    "    print('train_scores:',train_scores)\n",
    "    test_scores = clf.cv_results_['mean_test_score']\n",
    "    print('valid_scores:',test_scores)\n",
    "    params = clf.cv_results_['params']\n",
    "    print('params:', params)\n",
    "    best_param = clf.best_params_ \n",
    "    print('best_param', best_param)\n",
    "    best_estimator = clf.best_estimator_  \n",
    "    print('best_estimator', best_estimator)\n",
    "    best_score = clf.best_score_\n",
    "    print('best_score', best_score)\n",
    "\n",
    "    clf = GaussianNB(priors = best_param['priors'])\n",
    "    clf.fit(train_data, train_label)\n",
    "    \n",
    "    y_pred_train = clf.predict(train_data)    \n",
    "    y_pred_test = clf.predict(test_data)\n",
    "    f1_train= f1_score(train_label, y_pred_train, average='micro')\n",
    "    f1_test= f1_score(test_label, y_pred_test, average='micro')\n",
    "    print('f1 (train): ', f1_train)\n",
    "    print('f1 (test): ', f1_test)"
   ]
  },
  {
   "cell_type": "code",
   "execution_count": 17,
   "metadata": {},
   "outputs": [
    {
     "name": "stdout",
     "output_type": "stream",
     "text": [
      "train_scores: [0.91785 0.91783 0.91787]\n",
      "valid_scores: [0.69936 0.69936 0.69932]\n",
      "params: [{'priors': [0.5, 0.5]}, {'priors': [0.9, 0.1]}, {'priors': [0.1, 0.9]}]\n",
      "best_param {'priors': [0.5, 0.5]}\n",
      "best_estimator GaussianNB(priors=[0.5, 0.5])\n",
      "best_score 0.69936\n",
      "f1 (train):  0.90784\n",
      "f1 (test):  0.61956\n"
     ]
    }
   ],
   "source": [
    "Naive_Bayes_Gaussian(train_unigram_tfid_w_sw,IMDB_train_y,test_unigram_tfid_w_sw,IMDB_test_y, 5)"
   ]
  },
  {
   "cell_type": "markdown",
   "metadata": {},
   "source": [
    "# Support Vector Machine Classifier"
   ]
  },
  {
   "cell_type": "code",
   "execution_count": 16,
   "metadata": {
    "collapsed": true
   },
   "outputs": [],
   "source": [
    "def SVM(train_data, train_label, test_data, test_label, cv):\n",
    "\n",
    "    tuned_parameters = [{'C': [0.01, 0.1, 1.0, 2.0, 3.0], 'tol': [0.0001, 0.001, 0.01, 0.1, 1]}]\n",
    "    \n",
    "    clf = LinearSVC(dual=False)\n",
    "    clf = GridSearchCV(clf, tuned_parameters, refit=True, scoring='f1_micro', cv=cv, return_train_score=True)\n",
    "    clf.fit(train_data, train_label)\n",
    "\n",
    "    \n",
    "    train_scores = clf.cv_results_['mean_train_score']\n",
    "    print('train_scores:',train_scores)\n",
    "    test_scores = clf.cv_results_['mean_test_score']\n",
    "    print('valid_scores:',test_scores)\n",
    "    params = clf.cv_results_['params']\n",
    "    print('params:', params)\n",
    "    best_param = clf.best_params_ \n",
    "    print('best_param', best_param)\n",
    "    best_estimator = clf.best_estimator_  \n",
    "    print('best_estimator', best_estimator)\n",
    "    best_score = clf.best_score_\n",
    "    print('best_score', best_score)\n",
    "\n",
    "    clf = LinearSVC(C=best_param['C'], tol=best_param['tol'], dual=False)\n",
    "    clf.fit(train_data, train_label)\n",
    "    \n",
    "    y_pred_train = clf.predict(train_data)    \n",
    "    y_pred_test = clf.predict(test_data)\n",
    "    f1_train= f1_score(train_label, y_pred_train, average='micro')\n",
    "    f1_test= f1_score(test_label, y_pred_test, average='micro')\n",
    "    print('f1 (train): ', f1_train)\n",
    "    print('f1 (test): ', f1_test)"
   ]
  },
  {
   "cell_type": "code",
   "execution_count": 14,
   "metadata": {},
   "outputs": [
    {
     "name": "stdout",
     "output_type": "stream",
     "text": [
      "train_scores: [0.97209 0.97213 0.97222 0.97255 0.92488 0.9983  0.99831 0.99825 0.98903\n",
      " 0.9369  1.      1.      0.99996 0.98953 0.94069 1.      1.      0.99998\n",
      " 0.98849 0.94157 1.      1.      0.99999 0.98971 0.94156]\n",
      "valid_scores: [0.88008 0.88016 0.87992 0.87968 0.86488 0.8662  0.8666  0.86612 0.86636\n",
      " 0.85948 0.85132 0.8524  0.85204 0.86232 0.85996 0.8492  0.85032 0.85128\n",
      " 0.86176 0.85988 0.84876 0.85004 0.8508  0.86152 0.86048]\n",
      "params: [{'C': 0.01, 'tol': 0.0001}, {'C': 0.01, 'tol': 0.001}, {'C': 0.01, 'tol': 0.01}, {'C': 0.01, 'tol': 0.1}, {'C': 0.01, 'tol': 1}, {'C': 0.1, 'tol': 0.0001}, {'C': 0.1, 'tol': 0.001}, {'C': 0.1, 'tol': 0.01}, {'C': 0.1, 'tol': 0.1}, {'C': 0.1, 'tol': 1}, {'C': 1.0, 'tol': 0.0001}, {'C': 1.0, 'tol': 0.001}, {'C': 1.0, 'tol': 0.01}, {'C': 1.0, 'tol': 0.1}, {'C': 1.0, 'tol': 1}, {'C': 2.0, 'tol': 0.0001}, {'C': 2.0, 'tol': 0.001}, {'C': 2.0, 'tol': 0.01}, {'C': 2.0, 'tol': 0.1}, {'C': 2.0, 'tol': 1}, {'C': 3.0, 'tol': 0.0001}, {'C': 3.0, 'tol': 0.001}, {'C': 3.0, 'tol': 0.01}, {'C': 3.0, 'tol': 0.1}, {'C': 3.0, 'tol': 1}]\n",
      "best_param {'C': 0.01, 'tol': 0.001}\n",
      "best_estimator LinearSVC(C=0.01, class_weight=None, dual=False, fit_intercept=True,\n",
      "     intercept_scaling=1, loss='squared_hinge', max_iter=1000,\n",
      "     multi_class='ovr', penalty='l2', random_state=None, tol=0.001,\n",
      "     verbose=0)\n",
      "best_score 0.88016\n",
      "f1 (train):  0.9694\n",
      "f1 (test):  0.8666000000000001\n"
     ]
    }
   ],
   "source": [
    "SVM(train_unigram,IMDB_train_y,test_unigram,IMDB_test_y, 5)"
   ]
  },
  {
   "cell_type": "code",
   "execution_count": 15,
   "metadata": {},
   "outputs": [
    {
     "name": "stdout",
     "output_type": "stream",
     "text": [
      "train_scores: [0.97504 0.97502 0.97461 0.96893 0.91224 0.99876 0.99861 0.99806 0.98175\n",
      " 0.91703 1.      0.99997 0.99979 0.98957 0.91708 1.      1.      0.9999\n",
      " 0.98647 0.91708 1.      1.      0.99989 0.98642 0.91713]\n",
      "valid_scores: [0.8842  0.88424 0.88408 0.88264 0.86996 0.86924 0.86932 0.87012 0.87328\n",
      " 0.86876 0.85768 0.85908 0.86204 0.86808 0.86872 0.8568  0.85896 0.86208\n",
      " 0.87236 0.86868 0.8564  0.85776 0.86044 0.87436 0.86848]\n",
      "params: [{'C': 0.01, 'tol': 0.0001}, {'C': 0.01, 'tol': 0.001}, {'C': 0.01, 'tol': 0.01}, {'C': 0.01, 'tol': 0.1}, {'C': 0.01, 'tol': 1}, {'C': 0.1, 'tol': 0.0001}, {'C': 0.1, 'tol': 0.001}, {'C': 0.1, 'tol': 0.01}, {'C': 0.1, 'tol': 0.1}, {'C': 0.1, 'tol': 1}, {'C': 1.0, 'tol': 0.0001}, {'C': 1.0, 'tol': 0.001}, {'C': 1.0, 'tol': 0.01}, {'C': 1.0, 'tol': 0.1}, {'C': 1.0, 'tol': 1}, {'C': 2.0, 'tol': 0.0001}, {'C': 2.0, 'tol': 0.001}, {'C': 2.0, 'tol': 0.01}, {'C': 2.0, 'tol': 0.1}, {'C': 2.0, 'tol': 1}, {'C': 3.0, 'tol': 0.0001}, {'C': 3.0, 'tol': 0.001}, {'C': 3.0, 'tol': 0.01}, {'C': 3.0, 'tol': 0.1}, {'C': 3.0, 'tol': 1}]\n",
      "best_param {'C': 0.01, 'tol': 0.001}\n",
      "best_estimator LinearSVC(C=0.01, class_weight=None, dual=False, fit_intercept=True,\n",
      "     intercept_scaling=1, loss='squared_hinge', max_iter=1000,\n",
      "     multi_class='ovr', penalty='l2', random_state=None, tol=0.001,\n",
      "     verbose=0)\n",
      "best_score 0.88424\n",
      "f1 (train):  0.97276\n",
      "f1 (test):  0.87584\n"
     ]
    }
   ],
   "source": [
    "SVM(train_unigram_w_sw,IMDB_train_y,test_unigram_w_sw,IMDB_test_y, 5)"
   ]
  },
  {
   "cell_type": "code",
   "execution_count": 18,
   "metadata": {},
   "outputs": [
    {
     "name": "stdout",
     "output_type": "stream",
     "text": [
      "train_scores: [0.86128 0.86126 0.86105 0.86105 0.847   0.93103 0.93108 0.93045 0.93019\n",
      " 0.91735 0.98781 0.98781 0.9878  0.98774 0.96572 0.99602 0.99602 0.99607\n",
      " 0.99615 0.97323 0.9985  0.99849 0.99849 0.99759 0.97386]\n",
      "valid_scores: [0.84408 0.84408 0.84436 0.84436 0.83536 0.88648 0.88644 0.8866  0.88768\n",
      " 0.88464 0.89012 0.89008 0.89004 0.88944 0.88772 0.88624 0.88636 0.8864\n",
      " 0.88476 0.88308 0.88264 0.88264 0.88136 0.87896 0.88096]\n",
      "params: [{'C': 0.01, 'tol': 0.0001}, {'C': 0.01, 'tol': 0.001}, {'C': 0.01, 'tol': 0.01}, {'C': 0.01, 'tol': 0.1}, {'C': 0.01, 'tol': 1}, {'C': 0.1, 'tol': 0.0001}, {'C': 0.1, 'tol': 0.001}, {'C': 0.1, 'tol': 0.01}, {'C': 0.1, 'tol': 0.1}, {'C': 0.1, 'tol': 1}, {'C': 1.0, 'tol': 0.0001}, {'C': 1.0, 'tol': 0.001}, {'C': 1.0, 'tol': 0.01}, {'C': 1.0, 'tol': 0.1}, {'C': 1.0, 'tol': 1}, {'C': 2.0, 'tol': 0.0001}, {'C': 2.0, 'tol': 0.001}, {'C': 2.0, 'tol': 0.01}, {'C': 2.0, 'tol': 0.1}, {'C': 2.0, 'tol': 1}, {'C': 3.0, 'tol': 0.0001}, {'C': 3.0, 'tol': 0.001}, {'C': 3.0, 'tol': 0.01}, {'C': 3.0, 'tol': 0.1}, {'C': 3.0, 'tol': 1}]\n",
      "best_param {'C': 1.0, 'tol': 0.0001}\n",
      "best_estimator LinearSVC(C=1.0, class_weight=None, dual=False, fit_intercept=True,\n",
      "     intercept_scaling=1, loss='squared_hinge', max_iter=1000,\n",
      "     multi_class='ovr', penalty='l2', random_state=None, tol=0.0001,\n",
      "     verbose=0)\n",
      "best_score 0.89012\n",
      "f1 (train):  0.9852\n",
      "f1 (test):  0.87448\n"
     ]
    }
   ],
   "source": [
    "SVM(train_unigram_tfid_w_sw,IMDB_train_y,test_unigram_tfid_w_sw,IMDB_test_y, 5)"
   ]
  },
  {
   "cell_type": "code",
   "execution_count": null,
   "metadata": {
    "collapsed": true
   },
   "outputs": [],
   "source": []
  },
  {
   "cell_type": "code",
   "execution_count": null,
   "metadata": {
    "collapsed": true
   },
   "outputs": [],
   "source": []
  }
 ],
 "metadata": {
  "kernelspec": {
   "display_name": "Python 3",
   "language": "python",
   "name": "python3"
  },
  "language_info": {
   "codemirror_mode": {
    "name": "ipython",
    "version": 3
   },
   "file_extension": ".py",
   "mimetype": "text/x-python",
   "name": "python",
   "nbconvert_exporter": "python",
   "pygments_lexer": "ipython3",
   "version": "3.6.3"
  }
 },
 "nbformat": 4,
 "nbformat_minor": 2
}
